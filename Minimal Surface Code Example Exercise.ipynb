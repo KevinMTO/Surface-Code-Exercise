{
 "cells": [
  {
   "cell_type": "markdown",
   "id": "791d9b7b",
   "metadata": {},
   "source": [
    "# In this code example I am exploring the distance 3 surface code\n",
    "### The example here reported is a simplification to the case where the initial logic state is |0> or |+>, other types of states like i or -i requires topological state preparations, and fault tolerant protocols on their own, look at \"twists\"(https://arxiv.org/abs/2302.07395). Due to the nature fo the example, for each type of logic state it is possible to detect specific errors. On the |0>L, Z-flips are invisible, while on the |+>L X-flips are invisible. The circuit will be set on a specific initial state to play around with the detecton of one of the two errors. Code quality is this notebook has been neglected."
   ]
  },
  {
   "cell_type": "markdown",
   "id": "ef3cf7c0",
   "metadata": {},
   "source": [
    "![example_of_surf](surface3dist.jpg)\n"
   ]
  },
  {
   "cell_type": "code",
   "execution_count": 1,
   "id": "651ab68e",
   "metadata": {},
   "outputs": [],
   "source": [
    "import pennylane as qml\n",
    "\n",
    "\n",
    "def surface_code_d3_circuit(is_plus, i_want_errors, line_of_error, corrections = []):\n",
    "    \"\"\"\n",
    "    Implementation of circuit for dist 3 surface code.\n",
    "    This type of surface code can detect only one physical error.\n",
    "    For the sake of the example we need to choose a simple logic state, either |0> or |+>.\n",
    "    \n",
    "    Args:\n",
    "    is_plus (bool): whether the initial state was |+> (True) or |0> (False)\n",
    "    i_want_errors (bool): allows to inject a controlled error to verify that it works\n",
    "    line_of_error (int): index of the line on which we want an error to appear\n",
    "    \n",
    "    Returns:\n",
    "    list: list of 8 measurement results [X1,X2,X3,X4, Z1,Z3,Z2,Z4] !!!! Attention\n",
    "    \"\"\"\n",
    "\n",
    "    # Data qubits: 0-8\n",
    "    # Measurement qubits: 9-16 (9,12 for X-stabilizers, 13,16 for Z-stabilizers)\n",
    "    \n",
    "    # initial state is simply |+> on all the qubits\n",
    "    if is_plus:\n",
    "        for i in range(9):\n",
    "            qml.Hadamard(wires=i)\n",
    "        # apply a Z-flip\n",
    "        if i_want_errors:\n",
    "            print(\"Applied error Z\")\n",
    "            qml.Z(wires=line_of_error)\n",
    "    else:\n",
    "        # apply an X-flip\n",
    "        if i_want_errors:\n",
    "            print(\"Applied error X\")\n",
    "            qml.X(wires=line_of_error)\n",
    "            \n",
    "    # Applies error correction\n",
    "    # ATTENTION : This is only for the sake of clarity, \n",
    "    # in the experiment correction is not applied but only tracked by software!!!\n",
    "    for qubit, op in corrections:\n",
    "        if op == 'X':\n",
    "            print(\"Applied X\")\n",
    "            qml.X(wires=qubit)\n",
    "        elif op == 'Z':\n",
    "            print(\"Applied Z\")\n",
    "            qml.Z(wires=qubit)\n",
    "        \n",
    "    \n",
    "    # Initialize measurement qubits for X-stabilizers with Hadamard\n",
    "    qml.Hadamard(wires=9)\n",
    "    qml.Hadamard(wires=10)\n",
    "    qml.Hadamard(wires=11)\n",
    "    qml.Hadamard(wires=12)\n",
    "    \n",
    "    # X-stabilizer 1 (measure qubit 9)\n",
    "    qml.CNOT(wires=[9, 1])\n",
    "    qml.CNOT(wires=[9, 2])\n",
    "    \n",
    "    # X-stabilizer 2 (measure qubit 10)\n",
    "    qml.CNOT(wires=[10, 0])\n",
    "    qml.CNOT(wires=[10, 1])\n",
    "    qml.CNOT(wires=[10, 3])\n",
    "    qml.CNOT(wires=[10, 4])\n",
    "    \n",
    "    # X-stabilizer 3 (measure qubit 11)\n",
    "    qml.CNOT(wires=[11, 4])\n",
    "    qml.CNOT(wires=[11, 5])\n",
    "    qml.CNOT(wires=[11, 7])\n",
    "    qml.CNOT(wires=[11, 8])\n",
    "    \n",
    "    # X-stabilizer 4 (measure qubit 12)\n",
    "    qml.CNOT(wires=[12, 6])\n",
    "    qml.CNOT(wires=[12, 7])\n",
    "    \n",
    "    # Final Hadamard on X-stabilizer measurement qubits\n",
    "    qml.Hadamard(wires=9)\n",
    "    qml.Hadamard(wires=10)\n",
    "    qml.Hadamard(wires=11)\n",
    "    qml.Hadamard(wires=12)\n",
    "    \n",
    "    # Z-stabilizer 1 (measure qubit 13)\n",
    "    qml.CNOT(wires=[0, 13])\n",
    "    qml.CNOT(wires=[3, 13])\n",
    "    \n",
    "    # Z-stabilizer 3 (measure qubit 14)\n",
    "    qml.CNOT(wires=[1, 14])\n",
    "    qml.CNOT(wires=[2, 14])\n",
    "    qml.CNOT(wires=[4, 14])\n",
    "    qml.CNOT(wires=[5, 14])\n",
    "    \n",
    "    # Z-stabilizer 2 (measure qubit 15)\n",
    "    qml.CNOT(wires=[3, 15])\n",
    "    qml.CNOT(wires=[4, 15])\n",
    "    qml.CNOT(wires=[6, 15])\n",
    "    qml.CNOT(wires=[7, 15])\n",
    "    \n",
    "    # Z-stabilizer 4 (measure qubit 16)\n",
    "    qml.CNOT(wires=[5, 16])\n",
    "    qml.CNOT(wires=[8, 16])\n",
    "\n",
    "\n",
    "    \n",
    "    # Measure stabilizer qubits in the Pauli-Z basis\n",
    "    return [qml.expval(qml.PauliZ(wire)) for wire in range(9, 17)]\n",
    "    \n",
    "\n",
    "\n",
    "\n",
    "dev = qml.device('default.qubit', wires=17)"
   ]
  },
  {
   "cell_type": "code",
   "execution_count": 2,
   "id": "2072685d",
   "metadata": {},
   "outputs": [],
   "source": [
    "# Let's set parameters for our evaluation, right now we are chosing initial state |0> with X error on qubit 2\n",
    "\n",
    "is_plus = False\n",
    "i_want_errors = True\n",
    "line_of_error = 2"
   ]
  },
  {
   "cell_type": "code",
   "execution_count": 3,
   "id": "b8bc1200",
   "metadata": {},
   "outputs": [
    {
     "name": "stdout",
     "output_type": "stream",
     "text": [
      "Applied error X\n",
      "Measurement outcomes of stabilizer qubits as a list of expectation values: [0.0, 0.0, 0.0, 0.0, 1.0, 1.0, -1.0, 1.0]\n"
     ]
    }
   ],
   "source": [
    "# Noiseless simulation for actually doing one cycle of detection with the correction\n",
    "surface_code_circuit = qml.QNode(surface_code_d3_circuit, dev)\n",
    "\n",
    "# Run the circuit\n",
    "results = surface_code_circuit(is_plus, i_want_errors, line_of_error)\n",
    "\n",
    "# Convert tensor results of the expectation values to a list of floats\n",
    "# Reordering of the value to : [X1,X2,X3,X4, Z1,Z2,Z3,Z4] !!!\n",
    "exps = [round(float(result), 3) for result in results]\n",
    "tempz3 = exps[5]\n",
    "tempz2 = exps[6]\n",
    "exps[5] = tempz2\n",
    "exps[6] = tempz3\n",
    "print(\"Measurement outcomes of stabilizer qubits as a list of expectation values:\", exps)\n"
   ]
  },
  {
   "cell_type": "markdown",
   "id": "a923e365",
   "metadata": {},
   "source": [
    "# Little note:\n",
    "[0.0, 0.0, 0.0, 0.0, 1.0, 1.0, -1.0, 1.0]\n",
    "\n",
    " [X1,X2,X3,X4, Z1,Z2,Z3,Z4]\n",
    "\n",
    "The |0> state in the computational (Z) basis can be written as a superposition in the X basis:\n",
    "|0> = (|+> + |->)/sqrt2\n",
    "The X basis states |+> and |-> are eigenstates of sigmax with eigenvalues +1 and -1 respectively.\n",
    "To find the expectation value, we calculate \n",
    "\n",
    "The probability of measuring |+> is 1/2, giving contribution (+1)(1/2)\n",
    "The probability of measuring |-> is 1/2, giving contribution (-1)(1/2)\n",
    "\n",
    "\n",
    "Therefore:\n",
    "<0|sigmax|0> = (+1)(1/2) + (-1)(1/2) = 0\n",
    "\n",
    "Similar discussion applies when the initail state is |+> and we measure Z stabilizers.\n",
    "\n",
    "1.0 is the eigenvalue of |0> in the Z basis\n",
    "-1.0 is the eigenvalue of |1> in the Z basis"
   ]
  },
  {
   "cell_type": "code",
   "execution_count": 4,
   "id": "58d76ed0",
   "metadata": {},
   "outputs": [
    {
     "name": "stdout",
     "output_type": "stream",
     "text": [
      "Applied error X\n",
      " 0: ──────────╭X───────────────────────────────╭●──────────────────────────────────┤     \n",
      " 1: ────╭X────│──╭X────────────────────────────│─────╭●────────────────────────────┤     \n",
      " 2: ──X─│──╭X─│──│─────────────────────────────│─────│──╭●─────────────────────────┤     \n",
      " 3: ────│──│──│──│──╭X─────────────────────────│──╭●─│──│────────╭●────────────────┤     \n",
      " 4: ────│──│──│──│──│──╭X─╭X───────────────────│──│──│──│──╭●────│──╭●─────────────┤     \n",
      " 5: ────│──│──│──│──│──│──│──╭X────────────────│──│──│──│──│──╭●─│──│────────╭●────┤     \n",
      " 6: ────│──│──│──│──│──│──│──│────────╭X───────│──│──│──│──│──│──│──│──╭●────│─────┤     \n",
      " 7: ────│──│──│──│──│──│──│──│──╭X────│──╭X────│──│──│──│──│──│──│──│──│──╭●─│─────┤     \n",
      " 8: ────│──│──│──│──│──│──│──│──│──╭X─│──│─────│──│──│──│──│──│──│──│──│──│──│──╭●─┤     \n",
      " 9: ──H─╰●─╰●─│──│──│──│──│──│──│──│──│──│───H─│──│──│──│──│──│──│──│──│──│──│──│──┤  <Z>\n",
      "10: ──H───────╰●─╰●─╰●─╰●─│──│──│──│──│──│───H─│──│──│──│──│──│──│──│──│──│──│──│──┤  <Z>\n",
      "11: ──H───────────────────╰●─╰●─╰●─╰●─│──│───H─│──│──│──│──│──│──│──│──│──│──│──│──┤  <Z>\n",
      "12: ──H───────────────────────────────╰●─╰●──H─│──│──│──│──│──│──│──│──│──│──│──│──┤  <Z>\n",
      "13: ───────────────────────────────────────────╰X─╰X─│──│──│──│──│──│──│──│──│──│──┤  <Z>\n",
      "14: ─────────────────────────────────────────────────╰X─╰X─╰X─╰X─│──│──│──│──│──│──┤  <Z>\n",
      "15: ─────────────────────────────────────────────────────────────╰X─╰X─╰X─╰X─│──│──┤  <Z>\n",
      "16: ─────────────────────────────────────────────────────────────────────────╰X─╰X─┤  <Z>\n"
     ]
    }
   ],
   "source": [
    "from pennylane import drawer\n",
    "\n",
    "# A nice visualization to see we applied the right initial state and error\n",
    "print(drawer.draw(surface_code_circuit)(is_plus, i_want_errors, line_of_error))"
   ]
  },
  {
   "cell_type": "code",
   "execution_count": 5,
   "id": "b08d2591",
   "metadata": {},
   "outputs": [
    {
     "data": {
      "text/plain": [
       "[0, 0, 0, 0, 0, 0, 1, 0]"
      ]
     },
     "execution_count": 5,
     "metadata": {},
     "output_type": "execute_result"
    }
   ],
   "source": [
    "# We need to convert the expectation values into booleans in order to understand how to map errors and corrections\n",
    "# It will make our lives easier, especially because we need to make a choice\n",
    "\n",
    "def convert_stabilizer_measurements(measurements, is_plus_state=True):\n",
    "    \"\"\"\n",
    "    Convert stabilizer measurements to binary error indicators.\n",
    "    In the code it is possible to see that there is a threshold according to which an expctation value is converted \n",
    "    into an event.\n",
    "    Usually the choice of an event happening is made when the probability is very high like 99.99...%\n",
    "    In this case since it is an ideal case we choose 1e-10 as maximum error. \n",
    "    \n",
    "    Args:\n",
    "    measurements (list): List of 8 measurement results [X1,X2,X3,X4, Z1,Z2,Z3,Z4] !!!!\n",
    "    is_plus_state (bool): Whether the initial state was |+> (True) or |0> (False)\n",
    "    \n",
    "    Returns:\n",
    "    list: Binary list where 0 means \"as expected\" and 1 means \"error detected\"\n",
    "    \"\"\"\n",
    "    n_stabilizers = len(measurements) // 2\n",
    "    result = []\n",
    "    \n",
    "    for i, value in enumerate(measurements):\n",
    "        if i < n_stabilizers:  \n",
    "            # X stabilizers\n",
    "            if is_plus_state:\n",
    "                # For |+> state: X stabilizers should be +1\n",
    "                result.append(0 if abs(value - 1.0) < 1e-10 else 1)\n",
    "            else:\n",
    "                # For |0> state: X stabilizers should be random (0.0 when averaged)\n",
    "                result.append(0 if abs(value) < 0.1 else 1)\n",
    "        else:  \n",
    "            # Z stabilizers\n",
    "            if is_plus_state:\n",
    "                # For |+> state: Z stabilizers should be random (0.0 when averaged)\n",
    "                result.append(0 if abs(value) < 0.1 else 1)\n",
    "            else:\n",
    "                # For |0> state: Z stabilizers should be +1\n",
    "                result.append(0 if abs(value - 1.0) < 1e-10 else 1)\n",
    "                \n",
    "    return result\n",
    "\n",
    "convert_stabilizer_measurements(exps, is_plus)"
   ]
  },
  {
   "cell_type": "markdown",
   "id": "85158043",
   "metadata": {},
   "source": [
    "## Due to extreme lack of time I implemented a lookup table based decoding\n",
    "### This is not scalable and realistic, since we are doing only one cycle with a controlled error, the minimum weight perfect matching algorithm should be a better choice.\n",
    "\n",
    "\n",
    "--Comment--\n",
    "\n",
    "In practice, this syndrome degeneracy in the surface code is typically handled through several approaches:\n",
    "\n",
    "Minimum Weight Perfect Matching (MWPM):\n",
    "\n",
    "\n",
    "The most common approach when faced with degenerate syndromes, it chooses the correction with minimum weight. It would arbitrarily but consistently choose one of them. This works because both corrections are equivalent for preserving the logical state.\n",
    "\n",
    "\n",
    "Repeated Measurements:\n",
    "\n",
    "\n",
    "In practical implementations, stabilizers are measured repeatedly. This temporal dimension provides additional information. Can help distinguish between degenerate errors through their time evolution.\n",
    "\n",
    "The key point is that for error correction to work, we don't need to identify the exact error location - we just need to apply a correction that returns the system to the code space and preserves the logical state. Any of the degenerate corrections will accomplish this."
   ]
  },
  {
   "cell_type": "code",
   "execution_count": 6,
   "id": "42a0badb",
   "metadata": {},
   "outputs": [],
   "source": [
    "import pennylane as qml\n",
    "import numpy as np\n",
    "\"\"\"\n",
    "A distance-3 surface code can correct up to one physical error.\n",
    "\n",
    "In general, a surface code of distance dd can correct up to floor(3−1 / 2)=1\n",
    "\n",
    "This means a distance-3 surface code can detect and correct a single error, but it cannot reliably correct two or more errors.\n",
    "\"\"\"\n",
    "\n",
    "\n",
    "# Decode and return corrections\n",
    "def lookup_table_decoder(syndrome, is_plus_state):\n",
    "    \n",
    "    # I removed the degenerate syndromes since we care about parity in the end.\n",
    "    \n",
    "    zero_state_lookup = {\n",
    "        # For |0> state - detecting X errors through Z stabilizers\n",
    "        # First 4 bits are ignored (random), last 4 are Z stabilizers\n",
    "        # Single X errors\n",
    "        (0,0,0,0, 1, 0, 0, 0): [(0, 'X')],    # X error on qubit 0\n",
    "        (0,0,0,0, 0, 0, 1, 0): [(1, 'X')],    # X error on qubit 1\n",
    "        # (0,0,0,0, 0, 0, 1, 0): [(2, 'X')],    # X error on qubit 2 degenerate\n",
    "        (0,0,0,0, 1, 1, 0, 0): [(3, 'X')],    # X error on qubit 3\n",
    "        (0,0,0,0, 0, 1, 1, 0): [(4, 'X')],    # X error on qubit 4\n",
    "        (0,0,0,0, 0, 0, 1, 1): [(5, 'X')],    # X error on qubit 5\n",
    "        (0,0,0,0, 0, 1, 0, 0): [(6, 'X')],    # X error on qubit 6\n",
    "        # (0,0,0,0, 0, 1, 0, 0): [(7, 'X')],    # X error on qubit 7 degenerate\n",
    "        (0,0,0,0, 0, 0, 0, 1): [(8, 'X')]     # X error on qubit 8\n",
    "\n",
    "    }\n",
    "\n",
    "    plus_state_lookup = {\n",
    "        # For |+> state - detecting Z errors through X stabilizers\n",
    "        # First 4 bits are X stabilizers, last 4 are ignored (random)\n",
    "        # Single Z errors\n",
    "        (0, 1, 0, 0, 0,0,0,0): [(0, 'Z')],    # Z error on qubit 0\n",
    "        (1, 1, 0, 0, 0,0,0,0): [(1, 'Z')],    # Z error on qubit 1\n",
    "        (1, 0, 0, 0, 0,0,0,0): [(2, 'Z')],    # Z error on qubit 2\n",
    "        # (0, 1, 0, 0, 0,0,0,0): [(3, 'Z')],    # Z error on qubit 3 degenerate\n",
    "        (0, 1, 1, 0, 0,0,0,0): [(4, 'Z')],    # Z error on qubit 4\n",
    "        (0, 0, 1, 0, 0,0,0,0): [(5, 'Z')],    # Z error on qubit 5\n",
    "        (0, 0, 0, 1, 0,0,0,0): [(6, 'Z')],    # Z error on qubit 6\n",
    "        (0, 0, 1, 1, 0,0,0,0): [(7, 'Z')],    # Z error on qubit 7\n",
    "        # (0, 0, 1, 0, 0,0,0,0): [(8, 'Z')],    # Z error on qubit 8 degenerate\n",
    "    }\n",
    "\n",
    "\n",
    "    # Return list of (qubit, op) pairs for correction\n",
    "    syndrome_tuple = tuple(syndrome)\n",
    "    if is_plus_state:\n",
    "        correction = plus_state_lookup.get(syndrome_tuple, [])\n",
    "    else:\n",
    "        correction = zero_state_lookup.get(syndrome_tuple, [])\n",
    "        \n",
    "    return correction  \n",
    "\n"
   ]
  },
  {
   "cell_type": "markdown",
   "id": "d90737c5",
   "metadata": {},
   "source": [
    "### Let's rerun the example but wit the corrections"
   ]
  },
  {
   "cell_type": "code",
   "execution_count": 7,
   "id": "3a7850ff",
   "metadata": {},
   "outputs": [
    {
     "name": "stdout",
     "output_type": "stream",
     "text": [
      "Applied error X\n",
      "Measurement outcomes of stabilizer qubits as a list: [0.0, 0.0, 0.0, 0.0, 1.0, 1.0, -1.0, 1.0]\n",
      "Converted outcomes of stabilizer qubits as a list: [0, 0, 0, 0, 0, 0, 1, 0]\n",
      "Corrections to be made :  [(1, 'X')]\n"
     ]
    }
   ],
   "source": [
    "# Create device and circuit with a noiseless simulation\n",
    "dev = qml.device('default.qubit', wires=17)\n",
    "surface_code_circuit = qml.QNode(surface_code_d3_circuit, dev)\n",
    "\n",
    "# Run the circuit\n",
    "results = surface_code_circuit(is_plus, i_want_errors, line_of_error)\n",
    "\n",
    "\n",
    "# Convert tensor results of the expc values to a list of floats\n",
    "# Reordering of the value to : [X1,X2,X3,X4, Z1,Z2,Z3,Z4]\n",
    "exps = [round(float(result), 3) for result in results]\n",
    "tempz3 = exps[5]\n",
    "tempz2 = exps[6]\n",
    "exps[5] = tempz2\n",
    "exps[6] = tempz3\n",
    "print(\"Measurement outcomes of stabilizer qubits as a list:\", exps)\n",
    "converted_synd = convert_stabilizer_measurements(exps, is_plus)\n",
    "print(\"Converted outcomes of stabilizer qubits as a list:\", converted_synd)\n",
    "\n",
    "# Obtain the corrections from the lookup table\n",
    "corrections = lookup_table_decoder(converted_synd, is_plus)\n",
    "print(\"Corrections to be made : \", corrections)"
   ]
  },
  {
   "cell_type": "code",
   "execution_count": 8,
   "id": "cd0dc163",
   "metadata": {},
   "outputs": [
    {
     "name": "stdout",
     "output_type": "stream",
     "text": [
      "Generation of circuit.\n",
      "Applied error X\n",
      "Applied X\n",
      "Results stored.\n"
     ]
    }
   ],
   "source": [
    "new_surface_code_circuit = qml.QNode(surface_code_d3_circuit, dev)\n",
    "print(\"Generation of circuit.\")\n",
    "\n",
    "new_results = new_surface_code_circuit(is_plus, i_want_errors, line_of_error, corrections)\n",
    "print(\"Results stored.\")"
   ]
  },
  {
   "cell_type": "code",
   "execution_count": 9,
   "id": "c0c6c1d7",
   "metadata": {},
   "outputs": [
    {
     "name": "stdout",
     "output_type": "stream",
     "text": [
      "Applied error X\n",
      "Applied X\n",
      " 0: ──────────╭X───────────────────────────────╭●──────────────────────────────────┤     \n",
      " 1: ──X─╭X────│──╭X────────────────────────────│─────╭●────────────────────────────┤     \n",
      " 2: ──X─│──╭X─│──│─────────────────────────────│─────│──╭●─────────────────────────┤     \n",
      " 3: ────│──│──│──│──╭X─────────────────────────│──╭●─│──│────────╭●────────────────┤     \n",
      " 4: ────│──│──│──│──│──╭X─╭X───────────────────│──│──│──│──╭●────│──╭●─────────────┤     \n",
      " 5: ────│──│──│──│──│──│──│──╭X────────────────│──│──│──│──│──╭●─│──│────────╭●────┤     \n",
      " 6: ────│──│──│──│──│──│──│──│────────╭X───────│──│──│──│──│──│──│──│──╭●────│─────┤     \n",
      " 7: ────│──│──│──│──│──│──│──│──╭X────│──╭X────│──│──│──│──│──│──│──│──│──╭●─│─────┤     \n",
      " 8: ────│──│──│──│──│──│──│──│──│──╭X─│──│─────│──│──│──│──│──│──│──│──│──│──│──╭●─┤     \n",
      " 9: ──H─╰●─╰●─│──│──│──│──│──│──│──│──│──│───H─│──│──│──│──│──│──│──│──│──│──│──│──┤  <Z>\n",
      "10: ──H───────╰●─╰●─╰●─╰●─│──│──│──│──│──│───H─│──│──│──│──│──│──│──│──│──│──│──│──┤  <Z>\n",
      "11: ──H───────────────────╰●─╰●─╰●─╰●─│──│───H─│──│──│──│──│──│──│──│──│──│──│──│──┤  <Z>\n",
      "12: ──H───────────────────────────────╰●─╰●──H─│──│──│──│──│──│──│──│──│──│──│──│──┤  <Z>\n",
      "13: ───────────────────────────────────────────╰X─╰X─│──│──│──│──│──│──│──│──│──│──┤  <Z>\n",
      "14: ─────────────────────────────────────────────────╰X─╰X─╰X─╰X─│──│──│──│──│──│──┤  <Z>\n",
      "15: ─────────────────────────────────────────────────────────────╰X─╰X─╰X─╰X─│──│──┤  <Z>\n",
      "16: ─────────────────────────────────────────────────────────────────────────╰X─╰X─┤  <Z>\n"
     ]
    }
   ],
   "source": [
    "print(drawer.draw(new_surface_code_circuit)(is_plus, i_want_errors, line_of_error, corrections))"
   ]
  },
  {
   "cell_type": "code",
   "execution_count": 10,
   "id": "76f78281",
   "metadata": {},
   "outputs": [
    {
     "name": "stdout",
     "output_type": "stream",
     "text": [
      "Measurement outcomes of stabilizer qubits as a list: [0.0, 0.0, 0.0, 0.0, 1.0, 1.0, 1.0, 1.0]\n"
     ]
    },
    {
     "data": {
      "text/plain": [
       "[0, 0, 0, 0, 0, 0, 0, 0]"
      ]
     },
     "execution_count": 10,
     "metadata": {},
     "output_type": "execute_result"
    }
   ],
   "source": [
    "# Convert tensor results of the expc values to a list of floats\n",
    "# Reordering of the value to : [X1,X2,X3,X4, Z1,Z2,Z3,Z4]\n",
    "exps = [round(float(result), 3) for result in new_results]\n",
    "tempz3 = exps[5]\n",
    "tempz2 = exps[6]\n",
    "exps[5] = tempz2\n",
    "exps[6] = tempz3\n",
    "print(\"Measurement outcomes of stabilizer qubits as a list:\", exps)\n",
    "convert_stabilizer_measurements(exps, is_plus)"
   ]
  },
  {
   "cell_type": "markdown",
   "id": "dfafa343",
   "metadata": {},
   "source": [
    "## The error has been corrected."
   ]
  }
 ],
 "metadata": {
  "kernelspec": {
   "display_name": "Python (.qecmenv)",
   "language": "python",
   "name": ".qecmenv"
  },
  "language_info": {
   "codemirror_mode": {
    "name": "ipython",
    "version": 3
   },
   "file_extension": ".py",
   "mimetype": "text/x-python",
   "name": "python",
   "nbconvert_exporter": "python",
   "pygments_lexer": "ipython3",
   "version": "3.10.12"
  }
 },
 "nbformat": 4,
 "nbformat_minor": 5
}
